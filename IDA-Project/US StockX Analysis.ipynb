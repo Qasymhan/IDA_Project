{
 "cells": [
  {
   "cell_type": "markdown",
   "metadata": {},
   "source": [
    "# Analysis of US Stock X market using the example of “Nike x Off-White” and “Adidas x Yeezy” collaborations competition"
   ]
  },
  {
   "cell_type": "markdown",
   "metadata": {},
   "source": [
    " "
   ]
  },
  {
   "cell_type": "markdown",
   "metadata": {},
   "source": [
    "## Introduction:"
   ]
  },
  {
   "cell_type": "markdown",
   "metadata": {},
   "source": [
    "StockX is an online marketplace and clothing reseller, primarily of sneakers. The Detroit-based company was founded by Dan Gilbert, Josh Luber, Greg Schwartz, and Chris Kaufman in 2015–2016. StockX has more than 800 employees in Downtown Detroit. StockX currently has international offices in London, UK, in Eindhoven, the Netherlands, and has authentication facilities in Detroit's Corktown neighborhood, Moonachie, NJ, and Tempe, AZ. Scott Cutler and Schwartz serve as chief executive officer and chief operating officer, respectively, and Deena Bahri became the company's first chief marketing officer in 2019.\n",
    "\n",
    "Nike and Off-White: \"The Ten\" was the sneaker collaboration between Nike and Off-White, designed by Virgil Abloh in 2017. It initially involved the deconstruction of ten iconic Nike silhouettes by Abloh. The ten shoes were individually broken down by Abloh, and then rebuilt with a different design and rearranged components. The collaboration sold out and the shoes became highly sought after.Further additions to this collaboration were then added throughout 2018 and 2019 which included endorsements from athletes and celebrities but are not included in the original “ten”.\n",
    "\n",
    "Adidas Yeezy is a fashion collaboration between the German sportswear brand Adidas and American designer/rapper Kanye West. The collaboration has become notable for it's high-end limited edition colorways and general releases offered by the Yeezy Boost sneaker line up. The collaboration has also produced shirts, jackets, track pants, socks, women's shoes and their newly released slides.\n",
    "\n",
    "Sources:\n",
    "\n",
    "https://en.wikipedia.org/wiki/StockX\n",
    "https://en.wikipedia.org/wiki/Nike_and_Off-White:_%27The_Ten%27\n",
    "https://en.wikipedia.org/wiki/Adidas_Yeezy"
   ]
  },
  {
   "cell_type": "markdown",
   "metadata": {},
   "source": [
    " "
   ]
  },
  {
   "cell_type": "markdown",
   "metadata": {},
   "source": [
    "## Data description and objectives:\n"
   ]
  },
  {
   "cell_type": "markdown",
   "metadata": {},
   "source": [
    "We will analyse data from Stock X database (over 10000 Observations from 2015 to 2019).\n",
    "\n",
    "Our data set has the following entities:\n",
    "\n",
    "<ul>\n",
    "Order Date - Date when order has been placed<br>\n",
    "Brand - Brand Name<br>\n",
    "Sneaker Name - Sneaker model name<br>\n",
    "Sale Price -  Sell price by Stock X seller<br>\n",
    "Retail Price - Retail price by brand<br>\n",
    "Release Date - Date when particular sneaker has been placed<br>\n",
    "Shoe Size - Sneaker size<br>\n",
    "Buyer Region - Region of Stock X buyer<br>\n",
    "</ul>\n",
    "\n",
    "Our objectives:\n",
    "\n",
    "<ul>\n",
    "Analyze relation between buyer region and brand<br>\n",
    "Analyze relation between shoe size and price<br>\n",
    "Analyze Stock X users interest rate in (both Nike and Adidas)<br>\n",
    "Analyze the most popular sneaker models and changes in their resales prices over years<br>\n",
    "Analyze which brand produces more sneaker models and how its affects their prices (both retail and resales)<br> \n",
    "</ul>\n"
   ]
  },
  {
   "cell_type": "markdown",
   "metadata": {},
   "source": [
    " "
   ]
  },
  {
   "cell_type": "markdown",
   "metadata": {},
   "source": [
    "## Data Preparation"
   ]
  },
  {
   "cell_type": "markdown",
   "metadata": {},
   "source": [
    " "
   ]
  },
  {
   "cell_type": "code",
   "execution_count": 10,
   "metadata": {},
   "outputs": [],
   "source": [
    "import pandas as pd"
   ]
  },
  {
   "cell_type": "code",
   "execution_count": 46,
   "metadata": {
    "scrolled": true
   },
   "outputs": [
    {
     "data": {
      "text/html": [
       "<div>\n",
       "<style scoped>\n",
       "    .dataframe tbody tr th:only-of-type {\n",
       "        vertical-align: middle;\n",
       "    }\n",
       "\n",
       "    .dataframe tbody tr th {\n",
       "        vertical-align: top;\n",
       "    }\n",
       "\n",
       "    .dataframe thead th {\n",
       "        text-align: right;\n",
       "    }\n",
       "</style>\n",
       "<table border=\"1\" class=\"dataframe\">\n",
       "  <thead>\n",
       "    <tr style=\"text-align: right;\">\n",
       "      <th></th>\n",
       "      <th>Order Date</th>\n",
       "      <th>Brand</th>\n",
       "      <th>Sneaker Name</th>\n",
       "      <th>Sale Price</th>\n",
       "      <th>Retail Price</th>\n",
       "      <th>Release Date</th>\n",
       "      <th>Shoe Size</th>\n",
       "      <th>Buyer Region</th>\n",
       "    </tr>\n",
       "  </thead>\n",
       "  <tbody>\n",
       "    <tr>\n",
       "      <th>0</th>\n",
       "      <td>9/1/17</td>\n",
       "      <td>Yeezy</td>\n",
       "      <td>Adidas-Yeezy-Boost-350-Low-V2-Beluga</td>\n",
       "      <td>$1,097</td>\n",
       "      <td>$220</td>\n",
       "      <td>9/24/16</td>\n",
       "      <td>11.0</td>\n",
       "      <td>California</td>\n",
       "    </tr>\n",
       "    <tr>\n",
       "      <th>1</th>\n",
       "      <td>9/1/17</td>\n",
       "      <td>Yeezy</td>\n",
       "      <td>Adidas-Yeezy-Boost-350-V2-Core-Black-Copper</td>\n",
       "      <td>$685</td>\n",
       "      <td>$220</td>\n",
       "      <td>11/23/16</td>\n",
       "      <td>11.0</td>\n",
       "      <td>California</td>\n",
       "    </tr>\n",
       "    <tr>\n",
       "      <th>2</th>\n",
       "      <td>9/1/17</td>\n",
       "      <td>Yeezy</td>\n",
       "      <td>Adidas-Yeezy-Boost-350-V2-Core-Black-Green</td>\n",
       "      <td>$690</td>\n",
       "      <td>$220</td>\n",
       "      <td>11/23/16</td>\n",
       "      <td>11.0</td>\n",
       "      <td>California</td>\n",
       "    </tr>\n",
       "    <tr>\n",
       "      <th>3</th>\n",
       "      <td>9/1/17</td>\n",
       "      <td>Yeezy</td>\n",
       "      <td>Adidas-Yeezy-Boost-350-V2-Core-Black-Red</td>\n",
       "      <td>$1,075</td>\n",
       "      <td>$220</td>\n",
       "      <td>11/23/16</td>\n",
       "      <td>11.5</td>\n",
       "      <td>Kentucky</td>\n",
       "    </tr>\n",
       "    <tr>\n",
       "      <th>4</th>\n",
       "      <td>9/1/17</td>\n",
       "      <td>Yeezy</td>\n",
       "      <td>Adidas-Yeezy-Boost-350-V2-Core-Black-Red-2017</td>\n",
       "      <td>$828</td>\n",
       "      <td>$220</td>\n",
       "      <td>2/11/17</td>\n",
       "      <td>11.0</td>\n",
       "      <td>Rhode Island</td>\n",
       "    </tr>\n",
       "    <tr>\n",
       "      <th>5</th>\n",
       "      <td>9/1/17</td>\n",
       "      <td>Yeezy</td>\n",
       "      <td>Adidas-Yeezy-Boost-350-V2-Core-Black-Red-2017</td>\n",
       "      <td>$798</td>\n",
       "      <td>$220</td>\n",
       "      <td>2/11/17</td>\n",
       "      <td>8.5</td>\n",
       "      <td>Michigan</td>\n",
       "    </tr>\n",
       "    <tr>\n",
       "      <th>6</th>\n",
       "      <td>9/1/17</td>\n",
       "      <td>Yeezy</td>\n",
       "      <td>Adidas-Yeezy-Boost-350-V2-Core-Black-White</td>\n",
       "      <td>$784</td>\n",
       "      <td>$220</td>\n",
       "      <td>12/17/16</td>\n",
       "      <td>11.0</td>\n",
       "      <td>California</td>\n",
       "    </tr>\n",
       "    <tr>\n",
       "      <th>7</th>\n",
       "      <td>9/1/17</td>\n",
       "      <td>Yeezy</td>\n",
       "      <td>Adidas-Yeezy-Boost-350-V2-Cream-White</td>\n",
       "      <td>$460</td>\n",
       "      <td>$220</td>\n",
       "      <td>4/29/17</td>\n",
       "      <td>10.0</td>\n",
       "      <td>New York</td>\n",
       "    </tr>\n",
       "    <tr>\n",
       "      <th>8</th>\n",
       "      <td>9/1/17</td>\n",
       "      <td>Yeezy</td>\n",
       "      <td>Adidas-Yeezy-Boost-350-V2-Cream-White</td>\n",
       "      <td>$465</td>\n",
       "      <td>$220</td>\n",
       "      <td>4/29/17</td>\n",
       "      <td>11.0</td>\n",
       "      <td>Kansas</td>\n",
       "    </tr>\n",
       "    <tr>\n",
       "      <th>9</th>\n",
       "      <td>9/1/17</td>\n",
       "      <td>Yeezy</td>\n",
       "      <td>Adidas-Yeezy-Boost-350-V2-Cream-White</td>\n",
       "      <td>$465</td>\n",
       "      <td>$220</td>\n",
       "      <td>4/29/17</td>\n",
       "      <td>11.0</td>\n",
       "      <td>Florida</td>\n",
       "    </tr>\n",
       "  </tbody>\n",
       "</table>\n",
       "</div>"
      ],
      "text/plain": [
       "  Order Date   Brand                                   Sneaker Name  \\\n",
       "0     9/1/17   Yeezy           Adidas-Yeezy-Boost-350-Low-V2-Beluga   \n",
       "1     9/1/17   Yeezy    Adidas-Yeezy-Boost-350-V2-Core-Black-Copper   \n",
       "2     9/1/17   Yeezy     Adidas-Yeezy-Boost-350-V2-Core-Black-Green   \n",
       "3     9/1/17   Yeezy       Adidas-Yeezy-Boost-350-V2-Core-Black-Red   \n",
       "4     9/1/17   Yeezy  Adidas-Yeezy-Boost-350-V2-Core-Black-Red-2017   \n",
       "5     9/1/17   Yeezy  Adidas-Yeezy-Boost-350-V2-Core-Black-Red-2017   \n",
       "6     9/1/17   Yeezy     Adidas-Yeezy-Boost-350-V2-Core-Black-White   \n",
       "7     9/1/17   Yeezy          Adidas-Yeezy-Boost-350-V2-Cream-White   \n",
       "8     9/1/17   Yeezy          Adidas-Yeezy-Boost-350-V2-Cream-White   \n",
       "9     9/1/17   Yeezy          Adidas-Yeezy-Boost-350-V2-Cream-White   \n",
       "\n",
       "  Sale Price Retail Price Release Date  Shoe Size  Buyer Region  \n",
       "0     $1,097         $220      9/24/16       11.0    California  \n",
       "1       $685         $220     11/23/16       11.0    California  \n",
       "2       $690         $220     11/23/16       11.0    California  \n",
       "3     $1,075         $220     11/23/16       11.5      Kentucky  \n",
       "4       $828         $220      2/11/17       11.0  Rhode Island  \n",
       "5       $798         $220      2/11/17        8.5      Michigan  \n",
       "6       $784         $220     12/17/16       11.0    California  \n",
       "7       $460         $220      4/29/17       10.0      New York  \n",
       "8       $465         $220      4/29/17       11.0        Kansas  \n",
       "9       $465         $220      4/29/17       11.0       Florida  "
      ]
     },
     "execution_count": 46,
     "metadata": {},
     "output_type": "execute_result"
    }
   ],
   "source": [
    "#Data Stock X\n",
    "dataframe = pd.read_csv(\"StockX-Data.csv\")\n",
    "dataframe.head(10)"
   ]
  },
  {
   "cell_type": "code",
   "execution_count": 45,
   "metadata": {},
   "outputs": [
    {
     "data": {
      "text/html": [
       "<div>\n",
       "<style scoped>\n",
       "    .dataframe tbody tr th:only-of-type {\n",
       "        vertical-align: middle;\n",
       "    }\n",
       "\n",
       "    .dataframe tbody tr th {\n",
       "        vertical-align: top;\n",
       "    }\n",
       "\n",
       "    .dataframe thead th {\n",
       "        text-align: right;\n",
       "    }\n",
       "</style>\n",
       "<table border=\"1\" class=\"dataframe\">\n",
       "  <thead>\n",
       "    <tr style=\"text-align: right;\">\n",
       "      <th></th>\n",
       "      <th>Order Date</th>\n",
       "      <th>Sale Price</th>\n",
       "      <th>Retail Price</th>\n",
       "      <th>Release Date</th>\n",
       "      <th>Shoe Size</th>\n",
       "      <th>Buyer Region</th>\n",
       "    </tr>\n",
       "    <tr>\n",
       "      <th>Brand</th>\n",
       "      <th></th>\n",
       "      <th></th>\n",
       "      <th></th>\n",
       "      <th></th>\n",
       "      <th></th>\n",
       "      <th></th>\n",
       "    </tr>\n",
       "  </thead>\n",
       "  <tbody>\n",
       "    <tr>\n",
       "      <th>Yeezy</th>\n",
       "      <td>72162</td>\n",
       "      <td>72162</td>\n",
       "      <td>72162</td>\n",
       "      <td>72162</td>\n",
       "      <td>72162</td>\n",
       "      <td>72162</td>\n",
       "    </tr>\n",
       "    <tr>\n",
       "      <th>Off-White</th>\n",
       "      <td>27794</td>\n",
       "      <td>27794</td>\n",
       "      <td>27794</td>\n",
       "      <td>27794</td>\n",
       "      <td>27794</td>\n",
       "      <td>27794</td>\n",
       "    </tr>\n",
       "  </tbody>\n",
       "</table>\n",
       "</div>"
      ],
      "text/plain": [
       "           Order Date  Sale Price  Retail Price  Release Date  Shoe Size  \\\n",
       "Brand                                                                      \n",
       " Yeezy          72162       72162         72162         72162      72162   \n",
       "Off-White       27794       27794         27794         27794      27794   \n",
       "\n",
       "           Buyer Region  \n",
       "Brand                    \n",
       " Yeezy            72162  \n",
       "Off-White         27794  "
      ]
     },
     "execution_count": 45,
     "metadata": {},
     "output_type": "execute_result"
    }
   ],
   "source": [
    "#total lots in Stock X by Brand\n",
    "dataframe = pd.read_csv(\"StockX-Data.csv\")\n",
    "dataframe.set_index([\"Brand\", \"Sneaker Name\"]).count(level=\"Brand\")"
   ]
  },
  {
   "cell_type": "code",
   "execution_count": 49,
   "metadata": {},
   "outputs": [
    {
     "data": {
      "text/plain": [
       "0        False\n",
       "1        False\n",
       "2        False\n",
       "3        False\n",
       "4        False\n",
       "         ...  \n",
       "99951    False\n",
       "99952    False\n",
       "99953    False\n",
       "99954    False\n",
       "99955    False\n",
       "Length: 99956, dtype: bool"
      ]
     },
     "execution_count": 49,
     "metadata": {},
     "output_type": "execute_result"
    }
   ],
   "source": [
    "#dublicate_check \n",
    "dataframe = pd.read_csv(\"StockX-Data.csv\")\n",
    "dataframe.duplicated()\n",
    "\n",
    "#all data is unique"
   ]
  },
  {
   "cell_type": "code",
   "execution_count": 61,
   "metadata": {},
   "outputs": [
    {
     "data": {
      "text/html": [
       "<div>\n",
       "<style scoped>\n",
       "    .dataframe tbody tr th:only-of-type {\n",
       "        vertical-align: middle;\n",
       "    }\n",
       "\n",
       "    .dataframe tbody tr th {\n",
       "        vertical-align: top;\n",
       "    }\n",
       "\n",
       "    .dataframe thead th {\n",
       "        text-align: right;\n",
       "    }\n",
       "</style>\n",
       "<table border=\"1\" class=\"dataframe\">\n",
       "  <thead>\n",
       "    <tr style=\"text-align: right;\">\n",
       "      <th></th>\n",
       "      <th></th>\n",
       "      <th>Shoe Size</th>\n",
       "    </tr>\n",
       "    <tr>\n",
       "      <th>Brand</th>\n",
       "      <th>Sale Price</th>\n",
       "      <th></th>\n",
       "    </tr>\n",
       "  </thead>\n",
       "  <tbody>\n",
       "    <tr>\n",
       "      <th rowspan=\"5\" valign=\"top\">Yeezy</th>\n",
       "      <th>$1,000</th>\n",
       "      <td>9.826531</td>\n",
       "    </tr>\n",
       "    <tr>\n",
       "      <th>$1,001</th>\n",
       "      <td>9.250000</td>\n",
       "    </tr>\n",
       "    <tr>\n",
       "      <th>$1,002</th>\n",
       "      <td>10.000000</td>\n",
       "    </tr>\n",
       "    <tr>\n",
       "      <th>$1,005</th>\n",
       "      <td>10.875000</td>\n",
       "    </tr>\n",
       "    <tr>\n",
       "      <th>$1,009</th>\n",
       "      <td>10.500000</td>\n",
       "    </tr>\n",
       "    <tr>\n",
       "      <th>...</th>\n",
       "      <th>...</th>\n",
       "      <td>...</td>\n",
       "    </tr>\n",
       "    <tr>\n",
       "      <th rowspan=\"5\" valign=\"top\">Off-White</th>\n",
       "      <th>$995</th>\n",
       "      <td>9.552632</td>\n",
       "    </tr>\n",
       "    <tr>\n",
       "      <th>$996</th>\n",
       "      <td>8.750000</td>\n",
       "    </tr>\n",
       "    <tr>\n",
       "      <th>$997</th>\n",
       "      <td>9.142857</td>\n",
       "    </tr>\n",
       "    <tr>\n",
       "      <th>$998</th>\n",
       "      <td>10.000000</td>\n",
       "    </tr>\n",
       "    <tr>\n",
       "      <th>$999</th>\n",
       "      <td>9.258065</td>\n",
       "    </tr>\n",
       "  </tbody>\n",
       "</table>\n",
       "<p>2382 rows × 1 columns</p>\n",
       "</div>"
      ],
      "text/plain": [
       "                      Shoe Size\n",
       "Brand     Sale Price           \n",
       " Yeezy    $1,000       9.826531\n",
       "          $1,001       9.250000\n",
       "          $1,002      10.000000\n",
       "          $1,005      10.875000\n",
       "          $1,009      10.500000\n",
       "...                         ...\n",
       "Off-White $995         9.552632\n",
       "          $996         8.750000\n",
       "          $997         9.142857\n",
       "          $998        10.000000\n",
       "          $999         9.258065\n",
       "\n",
       "[2382 rows x 1 columns]"
      ]
     },
     "execution_count": 61,
     "metadata": {},
     "output_type": "execute_result"
    }
   ],
   "source": [
    "#mean_shoe_size group by Brand and Sale Price\n",
    "dataframe = pd.read_csv(\"StockX-Data.csv\")\n",
    "dataframe.groupby([\"Brand\",\"Sale Price\"]).mean()"
   ]
  },
  {
   "cell_type": "markdown",
   "metadata": {},
   "source": [
    " "
   ]
  }
 ],
 "metadata": {
  "kernelspec": {
   "display_name": "Python 3",
   "language": "python",
   "name": "python3"
  },
  "language_info": {
   "codemirror_mode": {
    "name": "ipython",
    "version": 3
   },
   "file_extension": ".py",
   "mimetype": "text/x-python",
   "name": "python",
   "nbconvert_exporter": "python",
   "pygments_lexer": "ipython3",
   "version": "3.8.3"
  }
 },
 "nbformat": 4,
 "nbformat_minor": 4
}
